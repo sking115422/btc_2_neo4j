{
 "cells": [
  {
   "cell_type": "code",
   "execution_count": 18,
   "metadata": {},
   "outputs": [],
   "source": [
    "# Loading Relevant Libraries\n",
    "import binascii\n",
    "# from socket import htonl, ntohl\n",
    "import numpy as np"
   ]
  },
  {
   "cell_type": "code",
   "execution_count": 91,
   "metadata": {},
   "outputs": [],
   "source": [
    "# Importing Genesis Block and Reading it as Hex\n",
    "with open('./blocks/blk00000.dat', mode='rb') as file: # b is important -> binary\n",
    "    hexdata = file.read()"
   ]
  },
  {
   "cell_type": "code",
   "execution_count": 92,
   "metadata": {},
   "outputs": [
    {
     "data": {
      "text/plain": [
       "134217718"
      ]
     },
     "execution_count": 92,
     "metadata": {},
     "output_type": "execute_result"
    }
   ],
   "source": [
    "len(hexdata)"
   ]
  },
  {
   "cell_type": "code",
   "execution_count": 93,
   "metadata": {},
   "outputs": [
    {
     "data": {
      "text/plain": [
       "b\"\\xf9\\xbe\\xb4\\xd9\\x1d\\x01\\x00\\x00\\x01\\x00\\x00\\x00\\x00\\x00\\x00\\x00\\x00\\x00\\x00\\x00\\x00\\x00\\x00\\x00\\x00\\x00\\x00\\x00\\x00\\x00\\x00\\x00\\x00\\x00\\x00\\x00\\x00\\x00\\x00\\x00\\x00\\x00\\x00\\x00;\\xa3\\xed\\xfdz{\\x12\\xb2z\\xc7,>gv\\x8fa\\x7f\\xc8\\x1b\\xc3\\x88\\x8aQ2:\\x9f\\xb8\\xaaK\\x1e^J)\\xab_I\\xff\\xff\\x00\\x1d\\x1d\\xac+|\\x01\\x01\\x00\\x00\\x00\\x01\\x00\\x00\\x00\\x00\\x00\\x00\\x00\\x00\\x00\\x00\\x00\\x00\\x00\\x00\\x00\\x00\\x00\\x00\\x00\\x00\\x00\\x00\\x00\\x00\\x00\\x00\\x00\\x00\\x00\\x00\\x00\\x00\\xff\\xff\\xff\\xffM\\x04\\xff\\xff\\x00\\x1d\\x01\\x04EThe Times 03/Jan/2009 Chancellor on brink of second bailout for banks\\xff\\xff\\xff\\xff\\x01\\x00\\xf2\\x05*\\x01\\x00\\x00\\x00CA\\x04g\\x8a\\xfd\\xb0\\xfeUH'\\x19g\\xf1\\xa6q0\\xb7\\x10\\\\\\xd6\\xa8(\\xe09\\t\\xa6yb\\xe0\\xea\\x1fa\\xde\\xb6I\\xf6\\xbc?L\\xef8\\xc4\\xf3U\\x04\\xe5\\x1e\\xc1\\x12\\xde\\\\8M\\xf7\\xba\\x0b\\x8dW\\x8aLp+k\\xf1\\x1d_\\xac\\x00\\x00\\x00\\x00\""
      ]
     },
     "execution_count": 93,
     "metadata": {},
     "output_type": "execute_result"
    }
   ],
   "source": [
    "hexdata[:293]"
   ]
  },
  {
   "cell_type": "code",
   "execution_count": 100,
   "metadata": {},
   "outputs": [
    {
     "data": {
      "text/plain": [
       "b'\\xf9\\xbe\\xb4\\xd9'"
      ]
     },
     "execution_count": 100,
     "metadata": {},
     "output_type": "execute_result"
    }
   ],
   "source": [
    "# Magic Bytes\n",
    "hexdata[:4]"
   ]
  },
  {
   "cell_type": "code",
   "execution_count": 101,
   "metadata": {},
   "outputs": [
    {
     "data": {
      "text/plain": [
       "285"
      ]
     },
     "execution_count": 101,
     "metadata": {},
     "output_type": "execute_result"
    }
   ],
   "source": [
    "# Block size\n",
    "h = hexdata[4:8]\n",
    "\n",
    "h = h[::-1]\n",
    "h = h.hex()\n",
    "\n",
    "\n",
    "int(h, 16)"
   ]
  },
  {
   "cell_type": "code",
   "execution_count": 5,
   "metadata": {},
   "outputs": [
    {
     "data": {
      "text/plain": [
       "b'0010'"
      ]
     },
     "execution_count": 5,
     "metadata": {},
     "output_type": "execute_result"
    }
   ],
   "source": [
    "hexdata[15:19]"
   ]
  },
  {
   "cell_type": "code",
   "execution_count": 23,
   "metadata": {},
   "outputs": [],
   "source": [
    "def read_bytes(file,n,byte_order = 'L'):\n",
    "    data = file.read(n)\n",
    "    if byte_order == 'L':\n",
    "        data = data[::-1]\n",
    "    data = data.hex()\n",
    "    return data"
   ]
  },
  {
   "cell_type": "code",
   "execution_count": 48,
   "metadata": {},
   "outputs": [
    {
     "name": "stdout",
     "output_type": "stream",
     "text": [
      "d9b4bef9\n"
     ]
    }
   ],
   "source": [
    "f  = open('./blocks/blk00000.dat', mode='rb') \n",
    "\n",
    "mb = read_bytes(f, 4)\n",
    "print(mb)"
   ]
  },
  {
   "cell_type": "code",
   "execution_count": 47,
   "metadata": {},
   "outputs": [
    {
     "name": "stdout",
     "output_type": "stream",
     "text": [
      "0000011d\n"
     ]
    }
   ],
   "source": [
    "size = read_bytes(f, 4)\n",
    "print(size)"
   ]
  },
  {
   "cell_type": "code",
   "execution_count": 39,
   "metadata": {},
   "outputs": [
    {
     "data": {
      "text/plain": [
       "285"
      ]
     },
     "execution_count": 39,
     "metadata": {},
     "output_type": "execute_result"
    }
   ],
   "source": [
    "int(size, 16)"
   ]
  },
  {
   "cell_type": "code",
   "execution_count": 52,
   "metadata": {},
   "outputs": [],
   "source": [
    "f  = open('./blocks/blk00000.dat', mode='rb')"
   ]
  },
  {
   "cell_type": "code",
   "execution_count": 53,
   "metadata": {},
   "outputs": [
    {
     "name": "stdout",
     "output_type": "stream",
     "text": [
      "b'\\xf9\\xbe\\xb4\\xd9'\n",
      "b'\\x1d\\x01\\x00\\x00'\n"
     ]
    }
   ],
   "source": [
    "print(f.read(4))\n",
    "size = f.read(4)\n",
    "print(size)"
   ]
  },
  {
   "cell_type": "code",
   "execution_count": 71,
   "metadata": {},
   "outputs": [
    {
     "name": "stdout",
     "output_type": "stream",
     "text": [
      "285\n"
     ]
    }
   ],
   "source": [
    "h = '1d010000'\n",
    "\n",
    "b = bytes.fromhex(h)\n",
    "\n",
    "b = b[::-1]\n",
    "b = b.hex()\n",
    "\n",
    "print (int(b, 16))"
   ]
  }
 ],
 "metadata": {
  "kernelspec": {
   "display_name": "Python 3.9.7 ('venv': venv)",
   "language": "python",
   "name": "python3"
  },
  "language_info": {
   "codemirror_mode": {
    "name": "ipython",
    "version": 3
   },
   "file_extension": ".py",
   "mimetype": "text/x-python",
   "name": "python",
   "nbconvert_exporter": "python",
   "pygments_lexer": "ipython3",
   "version": "3.9.7"
  },
  "orig_nbformat": 4,
  "vscode": {
   "interpreter": {
    "hash": "a63366b01bc5247e1ea4be5953a55a19a8008ae6677a9444de617907d1229399"
   }
  }
 },
 "nbformat": 4,
 "nbformat_minor": 2
}
