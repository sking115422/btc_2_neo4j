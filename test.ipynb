{
 "cells": [
  {
   "cell_type": "code",
   "execution_count": 10,
   "metadata": {},
   "outputs": [],
   "source": [
    "import smtplib\n",
    "import ssl\n",
    "from email.message import EmailMessage"
   ]
  },
  {
   "cell_type": "code",
   "execution_count": 11,
   "metadata": {},
   "outputs": [],
   "source": [
    "app_pass = \"ganzkfczmsquqbza\""
   ]
  },
  {
   "cell_type": "code",
   "execution_count": 13,
   "metadata": {},
   "outputs": [],
   "source": [
    "port = 465 # for SSL\n",
    "serv = \"smtp.gmail.com\"\n",
    "e_addr = \"sking115422@gmail.com\"\n",
    "e_pass = \"ganzkfczmsquqbza\"\n",
    "sub = \"TEST\"\n",
    "from_ = \"sking115422@gmail.com\"\n",
    "to = \"sking115422@gmail.com\"\n",
    "cont = \"This is test content\""
   ]
  },
  {
   "cell_type": "code",
   "execution_count": 14,
   "metadata": {},
   "outputs": [],
   "source": [
    "def sendEmail(port, serv, e_addr, e_pass, sub, from_, to, cont):\n",
    "    \n",
    "    port = port  \n",
    "    smtp_server = serv\n",
    "    sender_email = e_addr  # Enter your address\n",
    "    receiver_email = e_addr  # Enter receiver address\n",
    "    password = e_pass\n",
    "\n",
    "    msg = EmailMessage()\n",
    "    \n",
    "    msg['Subject'] = sub\n",
    "    msg['From'] = from_\n",
    "    msg['To'] = to\n",
    "    msg.set_content(cont)\n",
    "    \n",
    "    context = ssl.create_default_context()\n",
    "    with smtplib.SMTP_SSL(smtp_server, port, context=context) as server:\n",
    "        server.login(sender_email, password)\n",
    "        server.send_message(msg, from_addr=sender_email, to_addrs=receiver_email)\n",
    "    "
   ]
  },
  {
   "cell_type": "code",
   "execution_count": 15,
   "metadata": {},
   "outputs": [],
   "source": [
    "sendEmail(port, serv, e_addr, e_pass, sub, from_, to, cont)"
   ]
  }
 ],
 "metadata": {
  "kernelspec": {
   "display_name": "Python 3.10.8 ('venv': venv)",
   "language": "python",
   "name": "python3"
  },
  "language_info": {
   "codemirror_mode": {
    "name": "ipython",
    "version": 3
   },
   "file_extension": ".py",
   "mimetype": "text/x-python",
   "name": "python",
   "nbconvert_exporter": "python",
   "pygments_lexer": "ipython3",
   "version": "3.10.8"
  },
  "orig_nbformat": 4,
  "vscode": {
   "interpreter": {
    "hash": "26d8ab5aabe42887882d0ea4156c675009d104f471cd502067df67ce7bde6153"
   }
  }
 },
 "nbformat": 4,
 "nbformat_minor": 2
}
